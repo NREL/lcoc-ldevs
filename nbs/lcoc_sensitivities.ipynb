{
 "cells": [
  {
   "cell_type": "markdown",
   "metadata": {},
   "source": [
    "# Levelized Cost of Charging Sensitivities  \n"
   ]
  },
  {
   "cell_type": "code",
   "execution_count": 1,
   "metadata": {},
   "outputs": [],
   "source": [
    "import sys\n",
    "import numpy as np\n",
    "import pandas as pd\n",
    "\n",
    "sys.path.append('../')\n",
    "import lcoc.urdb as urdb\n",
    "import lcoc.afdc as afdc\n",
    "import lcoc.processing as proc"
   ]
  },
  {
   "cell_type": "markdown",
   "metadata": {},
   "source": [
    "### LCOC Sensitivity Analysis:"
   ]
  },
  {
   "cell_type": "markdown",
   "metadata": {},
   "source": [
    "#### 1. Residential TOU:"
   ]
  },
  {
   "cell_type": "code",
   "execution_count": 2,
   "metadata": {},
   "outputs": [
    {
     "name": "stdout",
     "output_type": "stream",
     "text": [
      "Complete, 2008 utilities represented (no TOU rates used).\n",
      "Complete, 242 utitilies represented (only TOU rates used).\n"
     ]
    },
    {
     "data": {
      "text/html": [
       "<div>\n",
       "<style scoped>\n",
       "    .dataframe tbody tr th:only-of-type {\n",
       "        vertical-align: middle;\n",
       "    }\n",
       "\n",
       "    .dataframe tbody tr th {\n",
       "        vertical-align: top;\n",
       "    }\n",
       "\n",
       "    .dataframe thead th {\n",
       "        text-align: right;\n",
       "    }\n",
       "</style>\n",
       "<table border=\"1\" class=\"dataframe\">\n",
       "  <thead>\n",
       "    <tr style=\"text-align: right;\">\n",
       "      <th></th>\n",
       "      <th>eiaid</th>\n",
       "      <th>entity</th>\n",
       "      <th>state</th>\n",
       "      <th>customers</th>\n",
       "      <th>eia_cost_per_kwh</th>\n",
       "    </tr>\n",
       "  </thead>\n",
       "  <tbody>\n",
       "    <tr>\n",
       "      <th>0</th>\n",
       "      <td>6641.0</td>\n",
       "      <td>4-County Electric Power Assn</td>\n",
       "      <td>MS</td>\n",
       "      <td>38974</td>\n",
       "      <td>0.1178</td>\n",
       "    </tr>\n",
       "    <tr>\n",
       "      <th>1</th>\n",
       "      <td>57394.0</td>\n",
       "      <td>4Change Energy Company</td>\n",
       "      <td>TX</td>\n",
       "      <td>58380</td>\n",
       "      <td>0.0928</td>\n",
       "    </tr>\n",
       "    <tr>\n",
       "      <th>2</th>\n",
       "      <td>NaN</td>\n",
       "      <td>A &amp; N Electric Coop</td>\n",
       "      <td>MD</td>\n",
       "      <td>274</td>\n",
       "      <td>0.1149</td>\n",
       "    </tr>\n",
       "    <tr>\n",
       "      <th>3</th>\n",
       "      <td>84.0</td>\n",
       "      <td>A &amp; N Electric Coop</td>\n",
       "      <td>VA</td>\n",
       "      <td>31309</td>\n",
       "      <td>0.1112</td>\n",
       "    </tr>\n",
       "    <tr>\n",
       "      <th>4</th>\n",
       "      <td>12647.0</td>\n",
       "      <td>ALLETE, Inc.</td>\n",
       "      <td>MN</td>\n",
       "      <td>122295</td>\n",
       "      <td>0.1057</td>\n",
       "    </tr>\n",
       "    <tr>\n",
       "      <th>...</th>\n",
       "      <td>...</td>\n",
       "      <td>...</td>\n",
       "      <td>...</td>\n",
       "      <td>...</td>\n",
       "      <td>...</td>\n",
       "    </tr>\n",
       "    <tr>\n",
       "      <th>2003</th>\n",
       "      <td>21114.0</td>\n",
       "      <td>Yazoo Valley Elec Power Assn</td>\n",
       "      <td>MS</td>\n",
       "      <td>9464</td>\n",
       "      <td>0.1409</td>\n",
       "    </tr>\n",
       "    <tr>\n",
       "      <th>2004</th>\n",
       "      <td>20997.0</td>\n",
       "      <td>Yellowstone Valley Elec Co-op Inc.</td>\n",
       "      <td>MT</td>\n",
       "      <td>17917</td>\n",
       "      <td>0.1251</td>\n",
       "    </tr>\n",
       "    <tr>\n",
       "      <th>2005</th>\n",
       "      <td>NaN</td>\n",
       "      <td>York Electric Coop Inc</td>\n",
       "      <td>NC</td>\n",
       "      <td>13</td>\n",
       "      <td>0.1111</td>\n",
       "    </tr>\n",
       "    <tr>\n",
       "      <th>2006</th>\n",
       "      <td>21002.0</td>\n",
       "      <td>York Electric Coop Inc</td>\n",
       "      <td>SC</td>\n",
       "      <td>52788</td>\n",
       "      <td>0.1212</td>\n",
       "    </tr>\n",
       "    <tr>\n",
       "      <th>2007</th>\n",
       "      <td>56248.0</td>\n",
       "      <td>Young Energy, LLC</td>\n",
       "      <td>TX</td>\n",
       "      <td>20104</td>\n",
       "      <td>0.1408</td>\n",
       "    </tr>\n",
       "  </tbody>\n",
       "</table>\n",
       "<p>2008 rows × 5 columns</p>\n",
       "</div>"
      ],
      "text/plain": [
       "        eiaid                              entity state  customers  \\\n",
       "0      6641.0        4-County Electric Power Assn    MS      38974   \n",
       "1     57394.0              4Change Energy Company    TX      58380   \n",
       "2         NaN                 A & N Electric Coop    MD        274   \n",
       "3        84.0                 A & N Electric Coop    VA      31309   \n",
       "4     12647.0                        ALLETE, Inc.    MN     122295   \n",
       "...       ...                                 ...   ...        ...   \n",
       "2003  21114.0        Yazoo Valley Elec Power Assn    MS       9464   \n",
       "2004  20997.0  Yellowstone Valley Elec Co-op Inc.    MT      17917   \n",
       "2005      NaN              York Electric Coop Inc    NC         13   \n",
       "2006  21002.0              York Electric Coop Inc    SC      52788   \n",
       "2007  56248.0                   Young Energy, LLC    TX      20104   \n",
       "\n",
       "      eia_cost_per_kwh  \n",
       "0               0.1178  \n",
       "1               0.0928  \n",
       "2               0.1149  \n",
       "3               0.1112  \n",
       "4               0.1057  \n",
       "...                ...  \n",
       "2003            0.1409  \n",
       "2004            0.1251  \n",
       "2005            0.1111  \n",
       "2006            0.1212  \n",
       "2007            0.1408  \n",
       "\n",
       "[2008 rows x 5 columns]"
      ]
     },
     "execution_count": 2,
     "metadata": {},
     "output_type": "execute_result"
    }
   ],
   "source": [
    "proc.res_rates_to_utils(scenario = 'no-tou',\n",
    "                       urdb_rates_file = '../outputs/cost-of-electricity/urdb-res-rates/res_rates.csv',\n",
    "                       eia_cw_file = '../data/eia/eiaid-crosswalk/eia_crosswalk_17.csv',\n",
    "                       eia_utils_file = '../data/eia/residential-electricity-prices/eia_residential_17.csv',\n",
    "                       outpath = '../outputs/cost-of-electricity/res-utilities/')\n",
    "\n",
    "proc.res_rates_to_utils(scenario=\"tou-only\",\n",
    "                        urdb_rates_file = '../outputs/cost-of-electricity/urdb-res-rates/res_rates.csv',\n",
    "                        eia_cw_file = '../data/eia/eiaid-crosswalk/eia_crosswalk_17.csv',\n",
    "                        eia_utils_file = '../data/eia/residential-electricity-prices/eia_residential_17.csv',\n",
    "                        outpath = '../outputs/cost-of-electricity/res-utilities/')"
   ]
  },
  {
   "cell_type": "code",
   "execution_count": 3,
   "metadata": {},
   "outputs": [
    {
     "name": "stdout",
     "output_type": "stream",
     "text": [
      "Complete, national cost of electricity is $0.13/kWh.\n",
      "Complete, national cost of electricity is $0.08/kWh.\n"
     ]
    }
   ],
   "source": [
    "upper_bnd_utils_file = '../outputs/cost-of-electricity/res-utilities/upper_bnd_res_utils.csv'\n",
    "lower_bnd_utils_file = '../outputs/cost-of-electricity/res-utilities/lower_bnd_res_utils.csv'\n",
    "upper_bnd_states_file = '../outputs/cost-of-electricity/res-states/res_states_upper_bnd.csv'\n",
    "lower_bnd_states_file = '../outputs/cost-of-electricity/res-states/res_states_lower_bnd.csv'\n",
    "\n",
    "proc.res_utils_to_state(utils_file = upper_bnd_utils_file,\n",
    "                        outfile = upper_bnd_states_file)\n",
    "\n",
    "proc.res_utils_to_state(utils_file = lower_bnd_utils_file,\n",
    "                        outfile = lower_bnd_states_file)"
   ]
  },
  {
   "cell_type": "code",
   "execution_count": 4,
   "metadata": {},
   "outputs": [],
   "source": [
    "# VMT assumptions\n",
    "baseline_vmt = np.array([13065] * 3 + [12582] * 3 + [11432] * 4 + [7812] * 5) #NHTS 2017 (Table 22)\n",
    "baseline_lifetime_vmt = baseline_vmt.sum()\n",
    "baseline_aavmt = baseline_lifetime_vmt / 15\n",
    "low_aavmt = 100000\n",
    "high_aavmt = 200000"
   ]
  },
  {
   "cell_type": "code",
   "execution_count": 5,
   "metadata": {},
   "outputs": [
    {
     "name": "stdout",
     "output_type": "stream",
     "text": [
      "LCOC calculation complete, national LCOC (residential) is $0.18/kWh\n",
      "LCOC calculation complete, national LCOC (residential) is $0.12/kWh\n"
     ]
    }
   ],
   "source": [
    "proc.calculate_state_residential_lcoc(coe_file = upper_bnd_states_file,\n",
    "                                      fixed_costs_path = '../data/fixed-costs/residential/',\n",
    "                                      aavmt = baseline_aavmt,\n",
    "                                      outfile = '../outputs/cost-of-charging/residential/res_states_upper_bnd_tou_090820.csv')\n",
    "\n",
    "proc.calculate_state_residential_lcoc(coe_file = lower_bnd_states_file,\n",
    "                                      fixed_costs_path = '../data/fixed-costs/residential/',\n",
    "                                      aavmt = baseline_aavmt,\n",
    "                                     outfile = '../outputs/cost-of-charging/residential/res_states_lower_bnd_tou.csv')"
   ]
  },
  {
   "cell_type": "code",
   "execution_count": 6,
   "metadata": {},
   "outputs": [
    {
     "name": "stdout",
     "output_type": "stream",
     "text": [
      "LCOC calculation complete, national LCOC (residential) is $0.18/kWh\n"
     ]
    }
   ],
   "source": [
    "proc.calculate_state_residential_lcoc(coe_file = upper_bnd_states_file,\n",
    "                                      fixed_costs_path = '../data/fixed-costs/residential/',\n",
    "                                      aavmt = baseline_aavmt,\n",
    "                                      fraction_home_l1_charging = 0.,\n",
    "                                      outfile = '../outputs/cost-of-charging/residential/res_states_upper_bnd_090820.csv')"
   ]
  },
  {
   "cell_type": "code",
   "execution_count": 7,
   "metadata": {},
   "outputs": [
    {
     "name": "stdout",
     "output_type": "stream",
     "text": [
      "Combined LCOC calculation complete, national LCOC is $0.17/kWh\n",
      "Combined LCOC calculation complete, national LCOC is $0.13/kWh\n"
     ]
    }
   ],
   "source": [
    "proc.combine_res_work_dcfc_lcoc(res_lcoc_file = '../outputs/cost-of-charging/residential/res_states_upper_bnd_tou.csv',\n",
    "                                outfile = '../outputs/cost-of-charging/comb/comb_states_upper_bnd_tou_090820.csv')\n",
    "\n",
    "proc.combine_res_work_dcfc_lcoc(res_lcoc_file = '../outputs/cost-of-charging/residential/res_states_lower_bnd_tou.csv',\n",
    "                                outfile = '../outputs/cost-of-charging/comb/comb_states_lower_bnd_tou_090820.csv')"
   ]
  },
  {
   "cell_type": "code",
   "execution_count": 8,
   "metadata": {
    "collapsed": true,
    "jupyter": {
     "outputs_hidden": true
    },
    "tags": []
   },
   "outputs": [
    {
     "ename": "TypeError",
     "evalue": "cannot convert the series to <class 'float'>",
     "output_type": "error",
     "traceback": [
      "\u001b[0;31m---------------------------------------------------------------------------\u001b[0m",
      "\u001b[0;31mTypeError\u001b[0m                                 Traceback (most recent call last)",
      "\u001b[0;32m<ipython-input-8-1a96fc940b9f>\u001b[0m in \u001b[0;36m<module>\u001b[0;34m\u001b[0m\n\u001b[1;32m      1\u001b[0m \u001b[0;31m# LCOC for low/baseline/high lifetime VMT scenarios (100k, 162k, & 200k respectively)\u001b[0m\u001b[0;34m\u001b[0m\u001b[0;34m\u001b[0m\u001b[0;34m\u001b[0m\u001b[0m\n\u001b[0;32m----> 2\u001b[0;31m df = proc.calculate_state_residential_lcoc(coe_file = '../outputs/cost-of-electricity/res-utilities/res_utils.csv',\n\u001b[0m\u001b[1;32m      3\u001b[0m                                       \u001b[0mfixed_costs_path\u001b[0m \u001b[0;34m=\u001b[0m \u001b[0;34m'../data/fixed-costs/residential/'\u001b[0m\u001b[0;34m,\u001b[0m\u001b[0;34m\u001b[0m\u001b[0;34m\u001b[0m\u001b[0m\n\u001b[1;32m      4\u001b[0m                                       \u001b[0maavmt\u001b[0m \u001b[0;34m=\u001b[0m \u001b[0mlow_aavmt\u001b[0m\u001b[0;34m,\u001b[0m\u001b[0;34m\u001b[0m\u001b[0;34m\u001b[0m\u001b[0m\n\u001b[1;32m      5\u001b[0m                                       outfile = '../outputs/cost-of-charging/residential/res_states_upper_bnd_vmt.csv')\n",
      "\u001b[0;32m~/Desktop/lcoc-ldevs/evfast/processing.py\u001b[0m in \u001b[0;36mcalculate_state_residential_lcoc\u001b[0;34m(coe_file, fixed_costs_path, annual_maint_frac, veh_lifespan, veh_kwh_per_100miles, aavmt, fraction_residential_charging, fraction_home_l1_charging, dr, outfile)\u001b[0m\n\u001b[1;32m    189\u001b[0m     \u001b[0mdf\u001b[0m \u001b[0;34m=\u001b[0m \u001b[0mdf\u001b[0m\u001b[0;34m[\u001b[0m\u001b[0;34m[\u001b[0m\u001b[0;34m'state'\u001b[0m\u001b[0;34m,\u001b[0m \u001b[0;34m'lcoc_cost_per_kwh'\u001b[0m\u001b[0;34m]\u001b[0m\u001b[0;34m]\u001b[0m\u001b[0;34m\u001b[0m\u001b[0;34m\u001b[0m\u001b[0m\n\u001b[1;32m    190\u001b[0m     \u001b[0mdf\u001b[0m\u001b[0;34m.\u001b[0m\u001b[0mto_csv\u001b[0m\u001b[0;34m(\u001b[0m\u001b[0moutfile\u001b[0m\u001b[0;34m,\u001b[0m \u001b[0mindex\u001b[0m\u001b[0;34m=\u001b[0m\u001b[0;32mFalse\u001b[0m\u001b[0;34m)\u001b[0m\u001b[0;34m\u001b[0m\u001b[0;34m\u001b[0m\u001b[0m\n\u001b[0;32m--> 191\u001b[0;31m     \u001b[0mnat_lcoc\u001b[0m \u001b[0;34m=\u001b[0m \u001b[0mround\u001b[0m\u001b[0;34m(\u001b[0m\u001b[0mfloat\u001b[0m\u001b[0;34m(\u001b[0m\u001b[0mdf\u001b[0m\u001b[0;34m[\u001b[0m\u001b[0mdf\u001b[0m\u001b[0;34m.\u001b[0m\u001b[0mstate\u001b[0m\u001b[0;34m==\u001b[0m\u001b[0;34m'US'\u001b[0m\u001b[0;34m]\u001b[0m\u001b[0;34m[\u001b[0m\u001b[0;34m'lcoc_cost_per_kwh'\u001b[0m\u001b[0;34m]\u001b[0m\u001b[0;34m)\u001b[0m\u001b[0;34m,\u001b[0m \u001b[0;36m2\u001b[0m\u001b[0;34m)\u001b[0m\u001b[0;34m\u001b[0m\u001b[0;34m\u001b[0m\u001b[0m\n\u001b[0m\u001b[1;32m    192\u001b[0m     \u001b[0mprint\u001b[0m\u001b[0;34m(\u001b[0m\u001b[0;34m'LCOC calculation complete, national LCOC (residential) is ${}/kWh'\u001b[0m\u001b[0;34m.\u001b[0m\u001b[0mformat\u001b[0m\u001b[0;34m(\u001b[0m\u001b[0mnat_lcoc\u001b[0m\u001b[0;34m)\u001b[0m\u001b[0;34m)\u001b[0m\u001b[0;34m\u001b[0m\u001b[0;34m\u001b[0m\u001b[0m\n\u001b[1;32m    193\u001b[0m \u001b[0;34m\u001b[0m\u001b[0m\n",
      "\u001b[0;32m~/opt/anaconda3/envs/lcoc/lib/python3.8/site-packages/pandas/core/series.py\u001b[0m in \u001b[0;36mwrapper\u001b[0;34m(self)\u001b[0m\n\u001b[1;32m    139\u001b[0m         \u001b[0;32mif\u001b[0m \u001b[0mlen\u001b[0m\u001b[0;34m(\u001b[0m\u001b[0mself\u001b[0m\u001b[0;34m)\u001b[0m \u001b[0;34m==\u001b[0m \u001b[0;36m1\u001b[0m\u001b[0;34m:\u001b[0m\u001b[0;34m\u001b[0m\u001b[0;34m\u001b[0m\u001b[0m\n\u001b[1;32m    140\u001b[0m             \u001b[0;32mreturn\u001b[0m \u001b[0mconverter\u001b[0m\u001b[0;34m(\u001b[0m\u001b[0mself\u001b[0m\u001b[0;34m.\u001b[0m\u001b[0miloc\u001b[0m\u001b[0;34m[\u001b[0m\u001b[0;36m0\u001b[0m\u001b[0;34m]\u001b[0m\u001b[0;34m)\u001b[0m\u001b[0;34m\u001b[0m\u001b[0;34m\u001b[0m\u001b[0m\n\u001b[0;32m--> 141\u001b[0;31m         \u001b[0;32mraise\u001b[0m \u001b[0mTypeError\u001b[0m\u001b[0;34m(\u001b[0m\u001b[0;34mf\"cannot convert the series to {converter}\"\u001b[0m\u001b[0;34m)\u001b[0m\u001b[0;34m\u001b[0m\u001b[0;34m\u001b[0m\u001b[0m\n\u001b[0m\u001b[1;32m    142\u001b[0m \u001b[0;34m\u001b[0m\u001b[0m\n\u001b[1;32m    143\u001b[0m     \u001b[0mwrapper\u001b[0m\u001b[0;34m.\u001b[0m\u001b[0m__name__\u001b[0m \u001b[0;34m=\u001b[0m \u001b[0;34mf\"__{converter.__name__}__\"\u001b[0m\u001b[0;34m\u001b[0m\u001b[0;34m\u001b[0m\u001b[0m\n",
      "\u001b[0;31mTypeError\u001b[0m: cannot convert the series to <class 'float'>"
     ]
    }
   ],
   "source": [
    "# LCOC for low/baseline/high lifetime VMT scenarios (100k, 162k, & 200k respectively)\n",
    "df = proc.calculate_state_residential_lcoc(coe_file = '../outputs/cost-of-electricity/res-utilities/res_utils.csv',\n",
    "                                      fixed_costs_path = '../data/fixed-costs/residential/',\n",
    "                                      aavmt = low_aavmt,\n",
    "                                      outfile = '../outputs/cost-of-charging/residential/res_states_upper_bnd_vmt.csv')\n",
    "\n",
    "proc.calculate_state_residential_lcoc(coe_file = '../outputs/cost-of-electricity/res-utilities/res_utils.csv',\n",
    "                                      fixed_costs_path = '../data/fixed-costs/residential/',\n",
    "                                      aavmt = high_aavmt,\n",
    "                                      outfile = '../outputs/cost-of-charging/residential/res_states_lower_bnd_vmt.csv')\n",
    "\n",
    "proc.combine_res_work_dcfc_lcoc(res_lcoc_file = '../outputs/cost-of-charging/residential/res_states_upper_bnd_vmt.csv',\n",
    "                                outfile = '../outputs/cost-of-charging/comb/comb_states_upper_bnd_vmt.csv')\n",
    "\n",
    "proc.combine_res_work_dcfc_lcoc(res_lcoc_file = '../outputs/cost-of-charging/residential/res_states_lower_bnd_vmt.csv',\n",
    "                                outfile = '../outputs/cost-of-charging/comb/comb_states_lower_bnd_vmt.csv')"
   ]
  },
  {
   "cell_type": "markdown",
   "metadata": {},
   "source": [
    "#### 2. Capital Costs - Residential"
   ]
  },
  {
   "cell_type": "code",
   "execution_count": null,
   "metadata": {},
   "outputs": [],
   "source": [
    "proc.calculate_state_residential_lcoc(fraction_home_l1_charging = 0,\n",
    "                                      aavmt = baseline_aavmt,\n",
    "                                      outfile = '../outputs/cost-of-charging/residential/res_states_upper_bnd_equip.csv')\n",
    "\n",
    "proc.calculate_state_residential_lcoc(fraction_home_l1_charging = 1,\n",
    "                                      aavmt = baseline_aavmt,\n",
    "                                      outfile = '../outputs/cost-of-charging/residential/res_states_lower_bnd_equip.csv')"
   ]
  },
  {
   "cell_type": "code",
   "execution_count": 17,
   "metadata": {},
   "outputs": [
    {
     "name": "stdout",
     "output_type": "stream",
     "text": [
      "LCOC calculation complete, national LCOC (residential) is $0.18/kWh\n"
     ]
    }
   ],
   "source": [
    "proc.calculate_state_residential_lcoc(coe_file = upper_bnd_states_file,\n",
    "                                      fraction_home_l1_charging = 0,\n",
    "                                      aavmt = baseline_aavmt,\n",
    "                                      outfile = '../outputs/cost-of-charging/residential/res_states_upper_bnd_090820.csv')"
   ]
  },
  {
   "cell_type": "code",
   "execution_count": 7,
   "metadata": {},
   "outputs": [
    {
     "name": "stdout",
     "output_type": "stream",
     "text": [
      "Combined LCOC calculation complete, national LCOC is $0.15/kWh\n",
      "Combined LCOC calculation complete, national LCOC is $0.11/kWh\n"
     ]
    }
   ],
   "source": [
    "proc.combine_res_work_dcfc_lcoc(res_lcoc_file = '../outputs/cost-of-charging/residential/res_states_upper_bnd_equip.csv',\n",
    "                                outfile = '../outputs/cost-of-charging/comb/comb_states_upper_bnd_res_equip.csv')\n",
    "\n",
    "proc.combine_res_work_dcfc_lcoc(res_lcoc_file = '../outputs/cost-of-charging/residential/res_states_lower_bnd_equip.csv',\n",
    "                                outfile = '../outputs/cost-of-charging/comb/comb_states_lower_bnd_res_equip.csv')"
   ]
  },
  {
   "cell_type": "markdown",
   "metadata": {},
   "source": [
    "#### 3. Capital Costs - Workplace"
   ]
  },
  {
   "cell_type": "code",
   "execution_count": 8,
   "metadata": {},
   "outputs": [
    {
     "name": "stdout",
     "output_type": "stream",
     "text": [
      "LCOC calculation complete, national LCOC (workplace/pub-L2) is $0.12/kWh\n",
      "LCOC calculation complete, national LCOC (workplace/pub-L2) is $0.25/kWh\n"
     ]
    }
   ],
   "source": [
    "proc.calculate_state_workplace_public_l2_lcoc(coe_path = '../data/eia/eia_state_commercial_17.csv',\n",
    "                                              fixed_costs_file = '../data/fixed-costs/com_level2_lower_bnd.txt',\n",
    "                                              outpath = '../outputs/cost-of-charging/workplace-public-l2/work_pub_l2_states_lower_bnd_equip.csv')\n",
    "\n",
    "proc.calculate_state_workplace_public_l2_lcoc(coe_path = '../data/eia/eia_state_commercial_17.csv',\n",
    "                                              fixed_costs_file = '../data/fixed-costs/com_level2_upper_bnd.txt',\n",
    "                                              outpath = '../outputs/cost-of-charging/workplace-public-l2/work_pub_l2_states_upper_bnd_equip.csv')"
   ]
  },
  {
   "cell_type": "code",
   "execution_count": 9,
   "metadata": {},
   "outputs": [
    {
     "name": "stdout",
     "output_type": "stream",
     "text": [
      "Combined LCOC calculation complete, national LCOC is $0.14/kWh\n",
      "Combined LCOC calculation complete, national LCOC is $0.16/kWh\n"
     ]
    }
   ],
   "source": [
    "proc.combine_res_work_dcfc_lcoc(wrk_lcoc_file = 'outputs/cost-of-charging/workplace-public-l2/work_pub_l2_states_lower_bnd_equip.csv',\n",
    "                                outfile = 'outputs/cost-of-charging/comb/comb_states_lower_bnd_work_equip.csv')\n",
    "\n",
    "proc.combine_res_work_dcfc_lcoc(wrk_lcoc_file = 'outputs/cost-of-charging/workplace-public-l2/work_pub_l2_states_upper_bnd_equip.csv',\n",
    "                                outfile = 'outputs/cost-of-charging/comb/comb_states_upper_bnd_work_equip.csv')"
   ]
  },
  {
   "cell_type": "markdown",
   "metadata": {},
   "source": [
    "#### 4. Capital Costs - DCFC"
   ]
  },
  {
   "cell_type": "code",
   "execution_count": 10,
   "metadata": {},
   "outputs": [
    {
     "name": "stdout",
     "output_type": "stream",
     "text": [
      "LCOC calculation complete, national LCOC (DCFC) is $0.18/kWh\n",
      "LCOC calculation complete, national LCOC (DCFC) is $0.27/kWh\n"
     ]
    }
   ],
   "source": [
    "proc.combine_dcfc_profiles_into_single_lcoc(dcfc_lcoc_file = 'outputs/cost-of-charging/dcfc/dcfc_states_lower_bnd_equip.csv',\n",
    "                                           load_profile_path = 'data/dcfc-load-profiles/')\n",
    "\n",
    "proc.combine_dcfc_profiles_into_single_lcoc(dcfc_lcoc_file = 'outputs/cost-of-charging/dcfc/dcfc_states_upper_bnd_equip.csv',\n",
    "                                           load_profile_path = 'data/dcfc-load-profiles/')"
   ]
  },
  {
   "cell_type": "code",
   "execution_count": 11,
   "metadata": {},
   "outputs": [
    {
     "name": "stdout",
     "output_type": "stream",
     "text": [
      "Combined LCOC calculation complete, national LCOC is $0.14/kWh\n",
      "Combined LCOC calculation complete, national LCOC is $0.15/kWh\n"
     ]
    }
   ],
   "source": [
    "proc.combine_res_work_dcfc_lcoc(dcfc_lcoc_file = 'outputs/cost-of-charging/dcfc/dcfc_states_lower_bnd_equip.csv',\n",
    "                                outfile = 'outputs/cost-of-charging/comb/comb_states_lower_bnd_dcfc_equip.csv')\n",
    "\n",
    "proc.combine_res_work_dcfc_lcoc(dcfc_lcoc_file = 'outputs/cost-of-charging/dcfc/dcfc_states_upper_bnd_equip.csv',\n",
    "                                outfile = 'outputs/cost-of-charging/comb/comb_states_upper_bnd_dcfc_equip.csv')"
   ]
  },
  {
   "cell_type": "markdown",
   "metadata": {},
   "source": [
    "#### 5. Combined (best case/worst case scenario)  \n",
    "**Combined (best case)**:  \n",
    "* Charging Mix: 100% Res  \n",
    "* Residential TOU: TOU rates\n",
    "* Capital Costs (residential): None, L1 only  \n",
    "\n",
    "**Combined (worst case)**:\n",
    "* Charging Mix: 100% DCFC  \n",
    "* Capital Costs (DCFC): 95th percentile estimates + 500k (p3), 2.5M (p4) grid enhancements"
   ]
  },
  {
   "cell_type": "code",
   "execution_count": 12,
   "metadata": {},
   "outputs": [
    {
     "name": "stdout",
     "output_type": "stream",
     "text": [
      "LCOC calculation complete, national LCOC (residential) is $0.08/kWh\n"
     ]
    }
   ],
   "source": [
    "proc.calculate_state_residential_lcoc(coe_file = 'outputs/cost-of-electricity/res-states/res_states_lower_bnd.csv',\n",
    "                                      fraction_home_l1_charging = 1,\n",
    "                                      outfile = 'outputs/cost-of-charging/residential/res_states_lower_bnd_equip_tou.csv')"
   ]
  },
  {
   "cell_type": "code",
   "execution_count": 13,
   "metadata": {},
   "outputs": [
    {
     "name": "stdout",
     "output_type": "stream",
     "text": [
      "LCOC calculation complete, national LCOC (DCFC) is $0.27/kWh\n"
     ]
    }
   ],
   "source": [
    "proc.combine_dcfc_profiles_into_single_lcoc(dcfc_lcoc_file = 'outputs/cost-of-charging/dcfc/dcfc_states_upper_bnd_equip.csv',\n",
    "                                           load_profile_path = 'data/dcfc-load-profiles/')"
   ]
  }
 ],
 "metadata": {
  "kernelspec": {
   "display_name": "Python 3",
   "language": "python",
   "name": "python3"
  },
  "language_info": {
   "codemirror_mode": {
    "name": "ipython",
    "version": 3
   },
   "file_extension": ".py",
   "mimetype": "text/x-python",
   "name": "python",
   "nbconvert_exporter": "python",
   "pygments_lexer": "ipython3",
   "version": "3.8.2"
  }
 },
 "nbformat": 4,
 "nbformat_minor": 4
}
